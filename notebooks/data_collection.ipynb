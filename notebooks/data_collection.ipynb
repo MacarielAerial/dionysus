{
 "cells": [
  {
   "cell_type": "markdown",
   "metadata": {},
   "source": [
    "# Data Collection"
   ]
  },
  {
   "cell_type": "markdown",
   "metadata": {},
   "source": [
    "## I. Environment Setup"
   ]
  },
  {
   "cell_type": "markdown",
   "metadata": {},
   "source": [
    "Import relevant modules"
   ]
  },
  {
   "cell_type": "code",
   "execution_count": 1,
   "metadata": {},
   "outputs": [],
   "source": [
    "import logging\n",
    "from pathlib import Path\n",
    "\n",
    "from dionysus.nodes.project_logging import default_logging\n",
    "from dionysus.nodes.utils import int_from_discrete_gaussian_dist\n",
    "from dionysus.pipelines.parse_tiktok_data_pipeline import parse_tiktok_data_pipeline\n",
    "\n",
    "\n",
    "default_logging()\n",
    "\n",
    "logger = logging.getLogger(__name__)"
   ]
  },
  {
   "cell_type": "markdown",
   "metadata": {},
   "source": [
    "Set global variables"
   ]
  },
  {
   "cell_type": "code",
   "execution_count": 2,
   "metadata": {},
   "outputs": [],
   "source": [
    "# Input variables\n",
    "challenge_name = \"zoukbrasileiro\"\n",
    "\n",
    "# Raw data path\n",
    "path_tiktok_data = Path(\"../\") / \"data\" / \"01_raw\" / \"tiktok_data.json\"\n",
    "\n",
    "# Intermediate data path\n",
    "path_tiktok_graph = Path(\"../\") / \"data\" / \"02_intermediate\" / \"tiktok_graph.json\""
   ]
  },
  {
   "cell_type": "markdown",
   "metadata": {},
   "source": [
    "## II. TikTok Data Acquisition"
   ]
  },
  {
   "cell_type": "markdown",
   "metadata": {},
   "source": [
    "### II. I. Request raw json-formatted data from TikTok"
   ]
  },
  {
   "cell_type": "markdown",
   "metadata": {},
   "source": [
    "Execute the following command:\n",
    "***\n",
    "poetry run python -m dionysus.pipelines.request_tiktok_data_by_hashtag_pipeline -name zoukbrasileiro -ptd data/01_raw/\n",
    "tiktok_data.json\n",
    "***"
   ]
  },
  {
   "cell_type": "markdown",
   "metadata": {},
   "source": [
    "### Parse raw tiktok data into a networkx graph"
   ]
  },
  {
   "cell_type": "markdown",
   "metadata": {},
   "source": [
    "Execute the following command:\n",
    "***\n",
    "poetry run python -m dionysus.pipelines.parse_tiktok_data_pipeline -ptd data/01_raw/tiktok_data.json -ptg data/02_intermediate/tiktok_graph.json\n",
    "***"
   ]
  }
 ],
 "metadata": {
  "kernelspec": {
   "display_name": "Python 3.9.14 ('.venv')",
   "language": "python",
   "name": "python3"
  },
  "language_info": {
   "codemirror_mode": {
    "name": "ipython",
    "version": 3
   },
   "file_extension": ".py",
   "mimetype": "text/x-python",
   "name": "python",
   "nbconvert_exporter": "python",
   "pygments_lexer": "ipython3",
   "version": "3.9.14"
  },
  "orig_nbformat": 4,
  "vscode": {
   "interpreter": {
    "hash": "52c29ace4d570cca701be4fb6f82071dfa5e7d0b2c99c3ab55ee972f7008dc94"
   }
  }
 },
 "nbformat": 4,
 "nbformat_minor": 2
}
